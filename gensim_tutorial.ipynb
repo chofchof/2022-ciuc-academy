{
 "cells": [
  {
   "cell_type": "code",
   "execution_count": 1,
   "id": "55f73724-4b6e-48a7-b5ea-1e09d14dfdc1",
   "metadata": {},
   "outputs": [],
   "source": [
    "import numpy as np\n",
    "from pprint import pprint"
   ]
  },
  {
   "cell_type": "markdown",
   "id": "f841f371-a7b3-4dc5-99ae-108c9f88abf8",
   "metadata": {
    "tags": []
   },
   "source": [
    "# Gensim: Topic modeling for humans\n",
    "\n",
    "https://radimrehurek.com/gensim/index.html\n",
    "\n",
    "```bash\n",
    "conda install --channel conda-forge gensim\n",
    "```\n",
    "\n",
    "<div class=\"alert alert-info\"><tt>gensim</tt>의 핵심 개념은 다음과 같다.</div>\n",
    "\n",
    "  1. __도큐먼트__(document): 글, 문서\n",
    "  2. __코퍼스__(corpus): 도큐먼트 <u>모음</u>(collection)\n",
    "  3. __벡터__(vector): 도큐먼트를 두 숫자 `(id, value)`들의 시퀀스로 <u>표현</u>(representation)한 것\n",
    "  4. __모델__(model): 벡터를 다른 형태의 벡터로 <u>변환</u>(transform)하는 알고리즘\n"
   ]
  },
  {
   "cell_type": "code",
   "execution_count": 2,
   "id": "5586fc8d-8a81-485f-93cf-7deeffa5d42e",
   "metadata": {},
   "outputs": [],
   "source": [
    "# A document is an object of the text sequence type (str).\n",
    "document = \"Human machine interface for lab abc computer applications\"\n",
    "\n",
    "# A (text) corpus is a collection of Document objects.\n",
    "text_corpus = [\n",
    "    \"Human machine interface for lab abc computer applications\",\n",
    "    \"A survey of user opinion of computer system response time\",\n",
    "    \"The EPS user interface management system\",\n",
    "    \"System and human system engineering testing of EPS\",\n",
    "    \"Relation of user perceived response time to error measurement\",\n",
    "    \"The generation of random binary unordered trees\",\n",
    "    \"The intersection graph of paths in trees\",\n",
    "    \"Graph minors IV Widths of trees and well quasi ordering\",\n",
    "    \"Graph minors A survey\",\n",
    "]"
   ]
  },
  {
   "cell_type": "code",
   "execution_count": 3,
   "id": "1e4cbc57-7073-4588-a503-f092df33dbe4",
   "metadata": {},
   "outputs": [
    {
     "data": {
      "text/plain": [
       "['you', 're', 'friend']"
      ]
     },
     "execution_count": 3,
     "metadata": {},
     "output_type": "execute_result"
    }
   ],
   "source": [
    "# text preprocessing:\n",
    "#   gensim.utils.simple_preprocess(doc, deacc=False, min_len=2, max_len=15)\n",
    "#     deacc: Remove accent marks from tokens\n",
    "from gensim.utils import simple_preprocess\n",
    "\n",
    "simple_preprocess(\"You're a friend\")\n",
    "# simple_preprocess(\"Nic nemůže letět rychlostí vyšší, než 300 tisíc kilometrů za sekundu!\", deacc=True)\n",
    "# simple_preprocess(\"이것은 한글 연습이다. 음...\")"
   ]
  },
  {
   "cell_type": "code",
   "execution_count": 4,
   "id": "7da9964a-c185-4874-b1f1-949e4ecfbdc5",
   "metadata": {},
   "outputs": [
    {
     "name": "stdout",
     "output_type": "stream",
     "text": [
      "[['human', 'machine', 'interface', 'for', 'lab', 'abc', 'computer', 'applications'],\n",
      " ['survey', 'of', 'user', 'opinion', 'of', 'computer', 'system', 'response', 'time'],\n",
      " ['the', 'eps', 'user', 'interface', 'management', 'system'],\n",
      " ['system', 'and', 'human', 'system', 'engineering', 'testing', 'of', 'eps'],\n",
      " ['relation', 'of', 'user', 'perceived', 'response', 'time', 'to', 'error', 'measurement'],\n",
      " ['the', 'generation', 'of', 'random', 'binary', 'unordered', 'trees'],\n",
      " ['the', 'intersection', 'graph', 'of', 'paths', 'in', 'trees'],\n",
      " ['graph', 'minors', 'iv', 'widths', 'of', 'trees', 'and', 'well', 'quasi', 'ordering'],\n",
      " ['graph', 'minors', 'survey']]\n"
     ]
    }
   ],
   "source": [
    "# A (preprocessed) corpus is a collection of Document objects (with the list of tokens).\n",
    "processed_corpus = [simple_preprocess(doc) for doc in text_corpus]\n",
    "pprint(processed_corpus, width=200)"
   ]
  },
  {
   "cell_type": "markdown",
   "id": "f83806e2-43e5-44de-b4b2-64d572462b3d",
   "metadata": {
    "tags": []
   },
   "source": [
    "## corpora.Dictionary\n",
    "\n",
    "https://radimrehurek.com/gensim/corpora/dictionary.html\n",
    "\n",
    "<div class=\"alert alert-info\">코퍼스에서 단어들이 중복되어 나타나므로, 각 단어(token)들을 문자로 표현하는 것보다 숫자(id)로 표현하는 것이 효율적이다. 이 작업은 gensim에서 사전(Dictionary)를 통해 이루어진다.</div>"
   ]
  },
  {
   "cell_type": "code",
   "execution_count": 5,
   "id": "330a5743-d48f-4826-b597-e834dc3ed9a2",
   "metadata": {},
   "outputs": [
    {
     "name": "stdout",
     "output_type": "stream",
     "text": [
      "Dictionary<41 unique tokens: ['abc', 'applications', 'computer', 'for', 'human']...>\n"
     ]
    }
   ],
   "source": [
    "from gensim.corpora import Dictionary\n",
    "\n",
    "dictionary = Dictionary(processed_corpus)\n",
    "print(dictionary)"
   ]
  },
  {
   "cell_type": "code",
   "execution_count": 6,
   "id": "b1e976b9-674d-42a7-9034-8d81dc8f4473",
   "metadata": {},
   "outputs": [
    {
     "data": {
      "text/plain": [
       "(9, 67, 65)"
      ]
     },
     "execution_count": 6,
     "metadata": {},
     "output_type": "execute_result"
    }
   ],
   "source": [
    "# num_docs: Number of documents processed\n",
    "# num_pos: Total number of corpus positions\n",
    "#   (sum of the number of dictionary.cfs)\n",
    "# num_nnz: Total number of non-zeroes in the BoW matrix\n",
    "#   (sum of the number of dictionary.dfs)\n",
    "dictionary.num_docs, dictionary.num_pos, dictionary.num_nnz"
   ]
  },
  {
   "cell_type": "code",
   "execution_count": 7,
   "id": "4fb97bcf-c4b0-4019-a852-74ac0008f317",
   "metadata": {},
   "outputs": [
    {
     "name": "stdout",
     "output_type": "stream",
     "text": [
      "{'abc': 0,\n",
      " 'and': 18,\n",
      " 'applications': 1,\n",
      " 'binary': 26,\n",
      " 'computer': 2,\n",
      " 'engineering': 19,\n",
      " 'eps': 15,\n",
      " 'error': 21,\n",
      " 'for': 3,\n",
      " 'generation': 27,\n",
      " 'graph': 31,\n",
      " 'human': 4,\n",
      " 'in': 32,\n",
      " 'interface': 5,\n",
      " 'intersection': 33,\n",
      " 'iv': 35,\n",
      " 'lab': 6,\n",
      " 'machine': 7,\n",
      " 'management': 16,\n",
      " 'measurement': 22,\n",
      " 'minors': 36,\n",
      " 'of': 8,\n",
      " 'opinion': 9,\n",
      " 'ordering': 37,\n",
      " 'paths': 34,\n",
      " 'perceived': 23,\n",
      " 'quasi': 38,\n",
      " 'random': 28,\n",
      " 'relation': 24,\n",
      " 'response': 10,\n",
      " 'survey': 11,\n",
      " 'system': 12,\n",
      " 'testing': 20,\n",
      " 'the': 17,\n",
      " 'time': 13,\n",
      " 'to': 25,\n",
      " 'trees': 29,\n",
      " 'unordered': 30,\n",
      " 'user': 14,\n",
      " 'well': 39,\n",
      " 'widths': 40}\n"
     ]
    }
   ],
   "source": [
    "pprint(dictionary.token2id)"
   ]
  },
  {
   "cell_type": "code",
   "execution_count": 8,
   "id": "cef05afd-0719-4c66-8857-5a125475e886",
   "metadata": {},
   "outputs": [
    {
     "data": {
      "text/plain": [
       "{}"
      ]
     },
     "execution_count": 8,
     "metadata": {},
     "output_type": "execute_result"
    }
   ],
   "source": [
    "# 맨 처음에는 dictionary.id2token에 아무 정보도 들어있지 않지만\n",
    "dictionary.id2token"
   ]
  },
  {
   "cell_type": "code",
   "execution_count": 9,
   "id": "98b30dfd-8601-473a-b79c-e7988a1b3a02",
   "metadata": {},
   "outputs": [
    {
     "data": {
      "text/plain": [
       "'widths'"
      ]
     },
     "execution_count": 9,
     "metadata": {},
     "output_type": "execute_result"
    }
   ],
   "source": [
    "# 일단 한 번 id에 해당하는 token을 찾고 나면\n",
    "dictionary[40]"
   ]
  },
  {
   "cell_type": "code",
   "execution_count": 10,
   "id": "a1ebf3f0-e722-448b-84f2-095221f98468",
   "metadata": {},
   "outputs": [
    {
     "name": "stdout",
     "output_type": "stream",
     "text": [
      "{0: 'abc',\n",
      " 1: 'applications',\n",
      " 2: 'computer',\n",
      " 3: 'for',\n",
      " 4: 'human',\n",
      " 5: 'interface',\n",
      " 6: 'lab',\n",
      " 7: 'machine',\n",
      " 8: 'of',\n",
      " 9: 'opinion',\n",
      " 10: 'response',\n",
      " 11: 'survey',\n",
      " 12: 'system',\n",
      " 13: 'time',\n",
      " 14: 'user',\n",
      " 15: 'eps',\n",
      " 16: 'management',\n",
      " 17: 'the',\n",
      " 18: 'and',\n",
      " 19: 'engineering',\n",
      " 20: 'testing',\n",
      " 21: 'error',\n",
      " 22: 'measurement',\n",
      " 23: 'perceived',\n",
      " 24: 'relation',\n",
      " 25: 'to',\n",
      " 26: 'binary',\n",
      " 27: 'generation',\n",
      " 28: 'random',\n",
      " 29: 'trees',\n",
      " 30: 'unordered',\n",
      " 31: 'graph',\n",
      " 32: 'in',\n",
      " 33: 'intersection',\n",
      " 34: 'paths',\n",
      " 35: 'iv',\n",
      " 36: 'minors',\n",
      " 37: 'ordering',\n",
      " 38: 'quasi',\n",
      " 39: 'well',\n",
      " 40: 'widths'}\n"
     ]
    }
   ],
   "source": [
    "# dictionary.id2token에 정보가 들어가게 된다.\n",
    "pprint(dictionary.id2token)"
   ]
  },
  {
   "cell_type": "code",
   "execution_count": 11,
   "id": "dba6f4f2-396f-41af-a81c-9d8530f7e4be",
   "metadata": {},
   "outputs": [
    {
     "name": "stdout",
     "output_type": "stream",
     "text": [
      "[('of', 7),\n",
      " ('system', 4),\n",
      " ('user', 3),\n",
      " ('the', 3),\n",
      " ('trees', 3),\n",
      " ('graph', 3),\n",
      " ('computer', 2),\n",
      " ('human', 2),\n",
      " ('interface', 2),\n",
      " ('response', 2)]\n"
     ]
    }
   ],
   "source": [
    "# most_common(n: Optional[int] = None) → List[Tuple[str, int]]\n",
    "#   Return a list of the n most common words and their \"cfs\" counts.\n",
    "pprint(dictionary.most_common(10))"
   ]
  },
  {
   "cell_type": "code",
   "execution_count": 12,
   "id": "7012f85e-d30d-4f52-ae12-7d3e73cab528",
   "metadata": {},
   "outputs": [
    {
     "data": {
      "text/plain": [
       "(7, 6)"
      ]
     },
     "execution_count": 12,
     "metadata": {},
     "output_type": "execute_result"
    }
   ],
   "source": [
    "# Collection frequencies (총 횟수):\n",
    "#   token_id -> how many instances of this token are contained in the documents\n",
    "# Document frequencies:\n",
    "#   token_id -> how many documents contain this token\n",
    "k = dictionary.token2id['of']\n",
    "dictionary.cfs[k], dictionary.dfs[k]"
   ]
  },
  {
   "cell_type": "code",
   "execution_count": 13,
   "id": "61d2942d-a3be-446f-b920-1d67ebd6c870",
   "metadata": {},
   "outputs": [
    {
     "name": "stdout",
     "output_type": "stream",
     "text": [
      "Dictionary<40 unique tokens: ['abc', 'applications', 'computer', 'for', 'human']...>\n"
     ]
    }
   ],
   "source": [
    "# filter_n_most_frequent(remove_n)\n",
    "#   Filter out the 'remove_n' most \"dfs\" frequent tokens that appear in the documents\n",
    "dictionary.filter_n_most_frequent(1)\n",
    "print(dictionary)"
   ]
  },
  {
   "cell_type": "code",
   "execution_count": 14,
   "id": "bc23bf9c-8eb7-49b1-8d25-255dda1f5096",
   "metadata": {},
   "outputs": [
    {
     "ename": "KeyError",
     "evalue": "'of'",
     "output_type": "error",
     "traceback": [
      "\u001b[1;31m---------------------------------------------------------------------------\u001b[0m",
      "\u001b[1;31mKeyError\u001b[0m                                  Traceback (most recent call last)",
      "\u001b[1;32mc:\\Users\\chof\\Desktop\\2022-ciuc-academy\\gensim_tutorial.ipynb 셀 16\u001b[0m in \u001b[0;36m<cell line: 2>\u001b[1;34m()\u001b[0m\n\u001b[0;32m      <a href='vscode-notebook-cell:/c%3A/Users/chof/Desktop/2022-ciuc-academy/gensim_tutorial.ipynb#X21sZmlsZQ%3D%3D?line=0'>1</a>\u001b[0m \u001b[39m# Notice that ids were reset.\u001b[39;00m\n\u001b[1;32m----> <a href='vscode-notebook-cell:/c%3A/Users/chof/Desktop/2022-ciuc-academy/gensim_tutorial.ipynb#X21sZmlsZQ%3D%3D?line=1'>2</a>\u001b[0m dictionary\u001b[39m.\u001b[39;49mtoken2id[\u001b[39m'\u001b[39;49m\u001b[39mof\u001b[39;49m\u001b[39m'\u001b[39;49m]\n",
      "\u001b[1;31mKeyError\u001b[0m: 'of'"
     ]
    }
   ],
   "source": [
    "# Notice that ids were reset.\n",
    "dictionary.token2id['of']"
   ]
  },
  {
   "cell_type": "code",
   "execution_count": null,
   "id": "1f197dbf-3681-4a70-98aa-78958c23c225",
   "metadata": {},
   "outputs": [
    {
     "name": "stdout",
     "output_type": "stream",
     "text": [
      "Dictionary<36 unique tokens: ['abc', 'applications', 'computer', 'human', 'interface']...>\n"
     ]
    }
   ],
   "source": [
    "bad_tokens = ['and', 'for', 'the', 'to']\n",
    "bad_ids = [dictionary.token2id[t] for t in bad_tokens]\n",
    "dictionary.filter_tokens(bad_ids=bad_ids)\n",
    "print(dictionary)"
   ]
  },
  {
   "cell_type": "code",
   "execution_count": null,
   "id": "68d1da9d-895c-4eb8-a99d-447e89b557cb",
   "metadata": {},
   "outputs": [
    {
     "ename": "KeyError",
     "evalue": "'the'",
     "output_type": "error",
     "traceback": [
      "\u001b[1;31m---------------------------------------------------------------------------\u001b[0m",
      "\u001b[1;31mKeyError\u001b[0m                                  Traceback (most recent call last)",
      "\u001b[1;32mc:\\Users\\chof\\Desktop\\2022-ciuc-academy\\gensim_tutorial.ipynb 셀 18\u001b[0m in \u001b[0;36m<cell line: 2>\u001b[1;34m()\u001b[0m\n\u001b[0;32m      <a href='vscode-notebook-cell:/c%3A/Users/chof/Desktop/2022-ciuc-academy/gensim_tutorial.ipynb#X23sZmlsZQ%3D%3D?line=0'>1</a>\u001b[0m \u001b[39m# Notice that ids were reset.\u001b[39;00m\n\u001b[1;32m----> <a href='vscode-notebook-cell:/c%3A/Users/chof/Desktop/2022-ciuc-academy/gensim_tutorial.ipynb#X23sZmlsZQ%3D%3D?line=1'>2</a>\u001b[0m dictionary\u001b[39m.\u001b[39;49mtoken2id[\u001b[39m'\u001b[39;49m\u001b[39mthe\u001b[39;49m\u001b[39m'\u001b[39;49m]\n",
      "\u001b[1;31mKeyError\u001b[0m: 'the'"
     ]
    }
   ],
   "source": [
    "# Notice that ids were reset.\n",
    "dictionary.token2id['the']"
   ]
  },
  {
   "cell_type": "code",
   "execution_count": null,
   "id": "f9d9cb0b-d335-4c83-848b-52bdfca5ef75",
   "metadata": {},
   "outputs": [
    {
     "name": "stdout",
     "output_type": "stream",
     "text": [
      "Dictionary<25 unique tokens: ['abc', 'applications', 'computer', 'human', 'interface']...>\n"
     ]
    }
   ],
   "source": [
    "# no_below (int, optional):\n",
    "#   Keep tokens which are contained in at least no_below documents\n",
    "# no_above (float, optional):\n",
    "#   Keep tokens which are contained in no more than no_above documents\n",
    "#   (fraction of total corpus size, not an absolute number)\n",
    "# keep_n (int, optional):\n",
    "#   Keep only the first keep_n most frequent tokens\n",
    "# keep_tokens (iterable of str):\n",
    "#   Iterable of tokens that must stay in dictionary after filtering\n",
    "dictionary.filter_extremes(no_below=1, no_above=0.5, keep_n=25)\n",
    "print(dictionary)"
   ]
  },
  {
   "cell_type": "code",
   "execution_count": null,
   "id": "8325e814-809d-409d-aee6-1dfa40a91b2b",
   "metadata": {},
   "outputs": [
    {
     "name": "stdout",
     "output_type": "stream",
     "text": [
      "{'abc': 0,\n",
      " 'applications': 1,\n",
      " 'binary': 21,\n",
      " 'computer': 2,\n",
      " 'engineering': 15,\n",
      " 'eps': 13,\n",
      " 'error': 17,\n",
      " 'graph': 23,\n",
      " 'human': 3,\n",
      " 'interface': 4,\n",
      " 'lab': 5,\n",
      " 'machine': 6,\n",
      " 'management': 14,\n",
      " 'measurement': 18,\n",
      " 'minors': 24,\n",
      " 'opinion': 7,\n",
      " 'perceived': 19,\n",
      " 'relation': 20,\n",
      " 'response': 8,\n",
      " 'survey': 9,\n",
      " 'system': 10,\n",
      " 'testing': 16,\n",
      " 'time': 11,\n",
      " 'trees': 22,\n",
      " 'user': 12}\n"
     ]
    }
   ],
   "source": [
    "# Notice that ids were reset.\n",
    "pprint(dictionary.token2id)"
   ]
  },
  {
   "cell_type": "code",
   "execution_count": null,
   "id": "f5fc54ed-2a29-4e13-bb8b-889567fc3a33",
   "metadata": {},
   "outputs": [
    {
     "name": "stdout",
     "output_type": "stream",
     "text": [
      "Dictionary<30 unique tokens: ['abc', 'applications', 'computer', 'human', 'interface']...>\n"
     ]
    }
   ],
   "source": [
    "# add_documents(documents, prune_at=2000000)\n",
    "#   Update dictionary from a collection of documents\n",
    "dictionary.add_documents(\n",
    "    [[\"cat\", \"say\", \"meow\"], [\"dog\", \"say\", \"bark\"]]\n",
    ")\n",
    "print(dictionary)"
   ]
  },
  {
   "cell_type": "code",
   "execution_count": null,
   "id": "4b5bf0a9-ab20-4733-9103-3162c38e65b4",
   "metadata": {},
   "outputs": [],
   "source": [
    "dictionary.save('sample_dictionary.gz')"
   ]
  },
  {
   "cell_type": "code",
   "execution_count": null,
   "id": "07f65610-257b-46d6-9280-92483d4551e6",
   "metadata": {},
   "outputs": [
    {
     "name": "stdout",
     "output_type": "stream",
     "text": [
      "Dictionary<30 unique tokens: ['abc', 'applications', 'computer', 'human', 'interface']...>\n"
     ]
    }
   ],
   "source": [
    "dictionary = Dictionary.load('sample_dictionary.gz')\n",
    "print(dictionary)"
   ]
  },
  {
   "cell_type": "code",
   "execution_count": null,
   "id": "865b1cda-a9a9-4ddd-81fb-8af6112a4f3a",
   "metadata": {},
   "outputs": [
    {
     "data": {
      "text/plain": [
       "[(2, 1), (29, 2)]"
      ]
     },
     "execution_count": 36,
     "metadata": {},
     "output_type": "execute_result"
    }
   ],
   "source": [
    "# doc2bow(document, allow_update=False, return_missing=False)\n",
    "#   Convert document into the bag-of-words (BoW) format = list of (token_id, token_count) tuples.\n",
    "# doc2idx(document, unknown_word_index=-1)\n",
    "#   Convert document (a list of words) into a list of indexes = list of token_id.\n",
    "dictionary.doc2bow(\n",
    "    [\"dog\", \"computer\", \"non_existent_word\", \"dog\"]\n",
    ")\n",
    "# dictionary.doc2idx(\n",
    "#     [\"dog\", \"computer\", \"non_existent_word\", \"dog\"]\n",
    "# )"
   ]
  },
  {
   "cell_type": "code",
   "execution_count": null,
   "id": "19bf3e43-7d04-47cb-af04-16a4125616e6",
   "metadata": {},
   "outputs": [
    {
     "data": {
      "text/plain": [
       "('computer', 'dog')"
      ]
     },
     "execution_count": 37,
     "metadata": {},
     "output_type": "execute_result"
    }
   ],
   "source": [
    "dictionary[2], dictionary[29]"
   ]
  },
  {
   "cell_type": "code",
   "execution_count": null,
   "id": "3b0b5b39-9c4a-4759-be61-09f5bb373ee3",
   "metadata": {},
   "outputs": [
    {
     "name": "stdout",
     "output_type": "stream",
     "text": [
      "[['human', 'machine', 'interface', 'for', 'lab', 'abc', 'computer', 'applications'],\n",
      " ['survey', 'of', 'user', 'opinion', 'of', 'computer', 'system', 'response', 'time'],\n",
      " ['the', 'eps', 'user', 'interface', 'management', 'system'],\n",
      " ['system', 'and', 'human', 'system', 'engineering', 'testing', 'of', 'eps'],\n",
      " ['relation', 'of', 'user', 'perceived', 'response', 'time', 'to', 'error', 'measurement'],\n",
      " ['the', 'generation', 'of', 'random', 'binary', 'unordered', 'trees'],\n",
      " ['the', 'intersection', 'graph', 'of', 'paths', 'in', 'trees'],\n",
      " ['graph', 'minors', 'iv', 'widths', 'of', 'trees', 'and', 'well', 'quasi', 'ordering'],\n",
      " ['graph', 'minors', 'survey']]\n"
     ]
    }
   ],
   "source": [
    "# processed_corpus = [simple_preprocess(doc) for doc in text_corpus]\n",
    "pprint(processed_corpus, width=200)"
   ]
  },
  {
   "cell_type": "code",
   "execution_count": null,
   "id": "2f903ce2-96ee-488b-809c-17989effc5c6",
   "metadata": {},
   "outputs": [
    {
     "data": {
      "text/plain": [
       "[[(0, 1), (1, 1), (2, 1), (3, 1), (4, 1), (5, 1), (6, 1)],\n",
       " [(2, 1), (7, 1), (8, 1), (9, 1), (10, 1), (11, 1), (12, 1)],\n",
       " [(4, 1), (10, 1), (12, 1), (13, 1), (14, 1)],\n",
       " [(3, 1), (10, 2), (13, 1), (15, 1), (16, 1)],\n",
       " [(8, 1), (11, 1), (12, 1), (17, 1), (18, 1), (19, 1), (20, 1)],\n",
       " [(21, 1), (22, 1)],\n",
       " [(22, 1), (23, 1)],\n",
       " [(22, 1), (23, 1), (24, 1)],\n",
       " [(9, 1), (23, 1), (24, 1)]]"
      ]
     },
     "execution_count": 39,
     "metadata": {},
     "output_type": "execute_result"
    }
   ],
   "source": [
    "# A corpus is a collection of Document objects (with the bag-of-words format).\n",
    "# Corpus with BoW format == Counterized vectors\n",
    "corpus = [dictionary.doc2bow(tokens) for tokens in processed_corpus]\n",
    "corpus"
   ]
  },
  {
   "cell_type": "markdown",
   "id": "79f07612-9ebe-41a2-a314-0a067f39e4ff",
   "metadata": {
    "tags": []
   },
   "source": [
    "## models.TfidfModel\n",
    "\n",
    "https://radimrehurek.com/gensim/models/tfidfmodel.html\n",
    "\n",
    "<div class=\"alert alert-info\">This module implements functionality related to the <b>Term Frequency - Inverse Document Frequency</b> vector space bag-of-words models.</div>\n",
    "\n",
    "https://en.wikipedia.org/wiki/Tf–idf\n",
    "\n",
    "```python\n",
    "class gensim.models.tfidfmodel.TfidfModel(\n",
    "    corpus=None,\n",
    "    id2word=None,\n",
    "    dictionary=None,\n",
    "    wlocal=gensim.utils.identity,\n",
    "    wglobal=gensim.models.tfidfmodel.df2idf,\n",
    "    normalize=True,\n",
    "    smartirs=None,\n",
    "    pivot=None,\n",
    "    slope=0.25\n",
    ")\n",
    "```\n",
    "\n",
    "https://rare-technologies.com/pivoted-document-length-normalisation/"
   ]
  },
  {
   "cell_type": "markdown",
   "id": "f8c33cd9-1109-4741-a3ba-23693633a721",
   "metadata": {},
   "source": [
    "<div class=\"alert alert-info\">코퍼스가 준비되어 있으면 간단히 <tt>TfidfModel</tt>을 생성할 수 있다.</div>"
   ]
  },
  {
   "cell_type": "code",
   "execution_count": null,
   "id": "2836e34a-d641-4afc-8c09-ee8536ff886f",
   "metadata": {},
   "outputs": [
    {
     "name": "stdout",
     "output_type": "stream",
     "text": [
      "TfidfModel<num_docs=9, num_nnz=41>\n"
     ]
    }
   ],
   "source": [
    "from gensim.models import TfidfModel\n",
    "\n",
    "model = TfidfModel(corpus)\n",
    "print(model)"
   ]
  },
  {
   "cell_type": "code",
   "execution_count": null,
   "id": "950dc563-4ba3-4ec8-b66b-411501339d51",
   "metadata": {},
   "outputs": [
    {
     "name": "stdout",
     "output_type": "stream",
     "text": [
      "{0: 1, 1: 1, 2: 2, 3: 2, 4: 2, 5: 1, 6: 1, 7: 1, 8: 2, 9: 2, 10: 3, 11: 2, 12: 3, 13: 2, 14: 1, 15: 1, 16: 1, 17: 1, 18: 1, 19: 1, 20: 1, 21: 1, 22: 3, 23: 3, 24: 2}\n"
     ]
    }
   ],
   "source": [
    "pprint(model.dfs, width=200)"
   ]
  },
  {
   "cell_type": "code",
   "execution_count": null,
   "id": "e2fb895c-8914-4404-bc35-e2a8a97f830b",
   "metadata": {},
   "outputs": [
    {
     "name": "stdout",
     "output_type": "stream",
     "text": [
      "{0: 3.1699250014423126,\n",
      " 1: 3.1699250014423126,\n",
      " 2: 2.1699250014423126,\n",
      " 3: 2.1699250014423126,\n",
      " 4: 2.1699250014423126,\n",
      " 5: 3.1699250014423126,\n",
      " 6: 3.1699250014423126,\n",
      " 7: 3.1699250014423126,\n",
      " 8: 2.1699250014423126,\n",
      " 9: 2.1699250014423126,\n",
      " 10: 1.5849625007211563,\n",
      " 11: 2.1699250014423126,\n",
      " 12: 1.5849625007211563,\n",
      " 13: 2.1699250014423126,\n",
      " 14: 3.1699250014423126,\n",
      " 15: 3.1699250014423126,\n",
      " 16: 3.1699250014423126,\n",
      " 17: 3.1699250014423126,\n",
      " 18: 3.1699250014423126,\n",
      " 19: 3.1699250014423126,\n",
      " 20: 3.1699250014423126,\n",
      " 21: 3.1699250014423126,\n",
      " 22: 1.5849625007211563,\n",
      " 23: 1.5849625007211563,\n",
      " 24: 2.1699250014423126}\n"
     ]
    }
   ],
   "source": [
    "pprint(model.idfs)"
   ]
  },
  {
   "cell_type": "code",
   "execution_count": null,
   "id": "1c82467b-f6aa-44f3-8112-aa6b17537391",
   "metadata": {},
   "outputs": [
    {
     "name": "stdout",
     "output_type": "stream",
     "text": [
      "Relation of user perceived response time to error measurement\n",
      "['relation', 'of', 'user', 'perceived', 'response', 'time', 'to', 'error', 'measurement']\n",
      "[(8, 1), (11, 1), (12, 1), (17, 1), (18, 1), (19, 1), (20, 1)]\n",
      "[(8, 'response'), (11, 'time'), (12, 'user'), (17, 'error'), (18, 'measurement'), (19, 'perceived'), (20, 'relation')]\n",
      "[(8, 0.30055933182961736),\n",
      " (11, 0.30055933182961736),\n",
      " (12, 0.21953536176370683),\n",
      " (17, 0.43907072352741366),\n",
      " (18, 0.43907072352741366),\n",
      " (19, 0.43907072352741366),\n",
      " (20, 0.43907072352741366)]\n"
     ]
    }
   ],
   "source": [
    "doc_no = 4\n",
    "print(text_corpus[doc_no])\n",
    "print(processed_corpus[doc_no])\n",
    "pprint(corpus[doc_no])\n",
    "pprint([(i, dictionary[i]) for i, _ in corpus[doc_no]], width=200)\n",
    "pprint(model[corpus[doc_no]])"
   ]
  },
  {
   "cell_type": "markdown",
   "id": "08b6777e-da54-44b0-9dc8-f58dae0a17bb",
   "metadata": {},
   "source": [
    "<div class=\"alert alert-info\">생성된 모델은 저장한 후 나중에 다시 불러올 수 있다.</div>"
   ]
  },
  {
   "cell_type": "code",
   "execution_count": null,
   "id": "a669d930-55c4-4190-9f88-6c99d9ae731b",
   "metadata": {},
   "outputs": [],
   "source": [
    "model.save('sample_model_tfidf.gz')"
   ]
  },
  {
   "cell_type": "code",
   "execution_count": null,
   "id": "a0d6b164-ccb2-45a2-9f7a-f2c803c303b8",
   "metadata": {},
   "outputs": [
    {
     "name": "stdout",
     "output_type": "stream",
     "text": [
      "TfidfModel<num_docs=9, num_nnz=41>\n"
     ]
    }
   ],
   "source": [
    "tfidf_model = TfidfModel.load('sample_model_tfidf.gz')\n",
    "print(tfidf_model)"
   ]
  },
  {
   "cell_type": "code",
   "execution_count": null,
   "id": "eac5e962-bfd7-42ef-a2fc-26bfc3522afa",
   "metadata": {},
   "outputs": [
    {
     "name": "stdout",
     "output_type": "stream",
     "text": [
      "[[(0, 1), (1, 1), (2, 1), (3, 1), (4, 1), (5, 1), (6, 1)],\n",
      " [(2, 1), (7, 1), (8, 1), (9, 1), (10, 1), (11, 1), (12, 1)],\n",
      " [(4, 1), (10, 1), (12, 1), (13, 1), (14, 1)],\n",
      " [(3, 1), (10, 2), (13, 1), (15, 1), (16, 1)],\n",
      " [(8, 1), (11, 1), (12, 1), (17, 1), (18, 1), (19, 1), (20, 1)],\n",
      " [(21, 1), (22, 1)],\n",
      " [(22, 1), (23, 1)],\n",
      " [(22, 1), (23, 1), (24, 1)],\n",
      " [(9, 1), (23, 1), (24, 1)]]\n",
      "<gensim.interfaces.TransformedCorpus object at 0x000001D1D33AD150>\n"
     ]
    }
   ],
   "source": [
    "# lazy evaluation (미리 계산해 놓지 않고 나중에 필요할 때 계산)\n",
    "tfidf_vectors = tfidf_model[corpus]\n",
    "pprint(tfidf_vectors.corpus)\n",
    "pprint(tfidf_vectors)"
   ]
  },
  {
   "cell_type": "code",
   "execution_count": null,
   "id": "2ec5e540-477f-4049-944a-92ce89655d4c",
   "metadata": {},
   "outputs": [
    {
     "name": "stdout",
     "output_type": "stream",
     "text": [
      "[(8, 1), (11, 1), (12, 1), (17, 1), (18, 1), (19, 1), (20, 1)]\n",
      "[(8, 0.30055933182961736),\n",
      " (11, 0.30055933182961736),\n",
      " (12, 0.21953536176370683),\n",
      " (17, 0.43907072352741366),\n",
      " (18, 0.43907072352741366),\n",
      " (19, 0.43907072352741366),\n",
      " (20, 0.43907072352741366)]\n"
     ]
    }
   ],
   "source": [
    "doc_no = 4\n",
    "pprint(tfidf_vectors.corpus[doc_no])\n",
    "pprint(tfidf_vectors[doc_no])"
   ]
  },
  {
   "cell_type": "markdown",
   "id": "e9de58a6-dc29-4edc-aca4-7826bac32807",
   "metadata": {},
   "source": [
    "<div class=\"alert alert-info\"><tt>TfidfModel</tt>을 생성하기 위해 반드시 코퍼스가 필요한 것은 아니다. 사전집만 주어져도 충분하다.</div>"
   ]
  },
  {
   "cell_type": "code",
   "execution_count": null,
   "id": "acba85a7-77dd-46fe-b756-9f7945e811bb",
   "metadata": {},
   "outputs": [
    {
     "name": "stdout",
     "output_type": "stream",
     "text": [
      "TfidfModel<num_docs=11, num_nnz=71>\n"
     ]
    }
   ],
   "source": [
    "tfidf_model = TfidfModel(dictionary=dictionary)\n",
    "print(tfidf_model)"
   ]
  },
  {
   "cell_type": "code",
   "execution_count": null,
   "id": "bcebd55a-97ae-42f4-82ac-13f3f5ccf781",
   "metadata": {},
   "outputs": [
    {
     "name": "stdout",
     "output_type": "stream",
     "text": [
      "[(8, 1), (11, 1), (12, 1), (17, 1), (18, 1), (19, 1), (20, 1)]\n",
      "[(8, 0.3086808994140558),\n",
      " (11, 0.3086808994140558),\n",
      " (12, 0.23526281798508372),\n",
      " (17, 0.4341899386062443),\n",
      " (18, 0.4341899386062443),\n",
      " (19, 0.4341899386062443),\n",
      " (20, 0.4341899386062443)]\n"
     ]
    }
   ],
   "source": [
    "doc_no = 4\n",
    "tfidf_vectors = tfidf_model[corpus]\n",
    "pprint(tfidf_vectors.corpus[doc_no])\n",
    "pprint(tfidf_vectors[doc_no])"
   ]
  },
  {
   "cell_type": "markdown",
   "id": "f47243e8-984a-45e8-b87d-10bc1bca7dfa",
   "metadata": {},
   "source": [
    "<div class=\"alert alert-info\"><tt>tfidf_vectors</tt> 자체도 코퍼스의 일종이다. 코퍼스는 scipy의 희소행렬(csc_matrix) 또는 numpy 행렬로 바꿀 수 있다. </div>"
   ]
  },
  {
   "cell_type": "code",
   "execution_count": null,
   "id": "cddc3325-67b4-4dbb-8ba1-c6b87c101cc3",
   "metadata": {},
   "outputs": [
    {
     "data": {
      "text/plain": [
       "<9x30 sparse matrix of type '<class 'numpy.float64'>'\n",
       "\twith 41 stored elements in Compressed Sparse Row format>"
      ]
     },
     "execution_count": 50,
     "metadata": {},
     "output_type": "execute_result"
    }
   ],
   "source": [
    "from gensim.matutils import corpus2csc, corpus2dense\n",
    "\n",
    "num_terms = len(dictionary)\n",
    "corpus2csc(tfidf_vectors, num_terms=num_terms).T # tfidf matrix"
   ]
  },
  {
   "cell_type": "code",
   "execution_count": null,
   "id": "2fb58c27-be1a-4b32-9101-971345d3c298",
   "metadata": {},
   "outputs": [
    {
     "data": {
      "text/plain": [
       "array([[1., 1., 1., 1., 1., 1., 1., 0., 0., 0., 0., 0., 0., 0., 0., 0.,\n",
       "        0., 0., 0., 0., 0., 0., 0., 0., 0., 0., 0., 0., 0., 0.],\n",
       "       [0., 0., 1., 0., 0., 0., 0., 1., 1., 1., 1., 1., 1., 0., 0., 0.,\n",
       "        0., 0., 0., 0., 0., 0., 0., 0., 0., 0., 0., 0., 0., 0.],\n",
       "       [0., 0., 0., 0., 1., 0., 0., 0., 0., 0., 1., 0., 1., 1., 1., 0.,\n",
       "        0., 0., 0., 0., 0., 0., 0., 0., 0., 0., 0., 0., 0., 0.],\n",
       "       [0., 0., 0., 1., 0., 0., 0., 0., 0., 0., 2., 0., 0., 1., 0., 1.,\n",
       "        1., 0., 0., 0., 0., 0., 0., 0., 0., 0., 0., 0., 0., 0.],\n",
       "       [0., 0., 0., 0., 0., 0., 0., 0., 1., 0., 0., 1., 1., 0., 0., 0.,\n",
       "        0., 1., 1., 1., 1., 0., 0., 0., 0., 0., 0., 0., 0., 0.],\n",
       "       [0., 0., 0., 0., 0., 0., 0., 0., 0., 0., 0., 0., 0., 0., 0., 0.,\n",
       "        0., 0., 0., 0., 0., 1., 1., 0., 0., 0., 0., 0., 0., 0.],\n",
       "       [0., 0., 0., 0., 0., 0., 0., 0., 0., 0., 0., 0., 0., 0., 0., 0.,\n",
       "        0., 0., 0., 0., 0., 0., 1., 1., 0., 0., 0., 0., 0., 0.],\n",
       "       [0., 0., 0., 0., 0., 0., 0., 0., 0., 0., 0., 0., 0., 0., 0., 0.,\n",
       "        0., 0., 0., 0., 0., 0., 1., 1., 1., 0., 0., 0., 0., 0.],\n",
       "       [0., 0., 0., 0., 0., 0., 0., 0., 0., 1., 0., 0., 0., 0., 0., 0.,\n",
       "        0., 0., 0., 0., 0., 0., 0., 1., 1., 0., 0., 0., 0., 0.]],\n",
       "      dtype=float32)"
      ]
     },
     "execution_count": 51,
     "metadata": {},
     "output_type": "execute_result"
    }
   ],
   "source": [
    "corpus2dense(corpus, num_terms=num_terms).T # DTM (Document-Term Matrix)"
   ]
  },
  {
   "cell_type": "markdown",
   "id": "458d05eb-a4f2-4612-a8b5-8fedf4a62dce",
   "metadata": {},
   "source": [
    "## similarities.MatrixSimilarity\n",
    "\n",
    "https://radimrehurek.com/gensim/similarities/docsim.html\n",
    "\n",
    "<div class=\"alert alert-info\">Compute similarities across a collection of documents in the Vector Space Model.</div>\n",
    "\n",
    "```python\n",
    "class gensim.similarities.MatrixSimilarity(\n",
    "    corpus,\n",
    "    num_best=None,\n",
    "    dtype=np.float32,\n",
    "    num_features=None,\n",
    "    chunksize=256,\n",
    "    corpus_len=None\n",
    ")\n",
    "```"
   ]
  },
  {
   "cell_type": "code",
   "execution_count": null,
   "id": "bc5bef0c-1ef2-47a5-9106-4ec89ffe591c",
   "metadata": {},
   "outputs": [
    {
     "data": {
      "text/plain": [
       "array([0.       , 0.2981399, 0.0790867, 0.       , 1.       , 0.       ,\n",
       "       0.       , 0.       , 0.       ], dtype=float32)"
      ]
     },
     "execution_count": 52,
     "metadata": {},
     "output_type": "execute_result"
    }
   ],
   "source": [
    "from gensim.similarities import MatrixSimilarity\n",
    "\n",
    "tfidf_index = MatrixSimilarity(tfidf_vectors)\n",
    "tfidf_index[tfidf_vectors[doc_no]]"
   ]
  },
  {
   "cell_type": "markdown",
   "id": "5cb1efbb-8482-4a1e-8b96-042d32ac5834",
   "metadata": {},
   "source": [
    "## Comparison of gensim's `TfidfModel` and scikit-learn's `TfidfTransformer`\n",
    "\n",
    "<div class=\"alert alert-info\">gensim에서 scikit-learn의 <tt>TfidfTransformer</tt>와 동일한 모델을 생성하는 것은 간단하다. <tt>idf</tt> 계산법만 달라지기 때문이다. 따라서 gensim의 tfidf 값은 scikit-learn과 다르다.</div>"
   ]
  },
  {
   "cell_type": "code",
   "execution_count": null,
   "id": "a761a4b8-c0bb-4b27-9e57-1564aad75155",
   "metadata": {},
   "outputs": [
    {
     "name": "stdout",
     "output_type": "stream",
     "text": [
      "TfidfModel<num_docs=11, num_nnz=71>\n"
     ]
    }
   ],
   "source": [
    "sk_df2idf = lambda df, n: np.log((1+n) / (1+df)) + 1\n",
    "sk_tfidf_model = TfidfModel(dictionary=dictionary, wglobal=sk_df2idf)\n",
    "print(sk_tfidf_model)"
   ]
  },
  {
   "cell_type": "code",
   "execution_count": null,
   "id": "12c890ad-6e8d-4a2b-9030-e59d2c57e56a",
   "metadata": {},
   "outputs": [
    {
     "name": "stdout",
     "output_type": "stream",
     "text": [
      "[(8, 1), (11, 1), (12, 1), (17, 1), (18, 1), (19, 1), (20, 1)]\n",
      "[(8, 0.34819291939103125),\n",
      " (11, 0.34819291939103125),\n",
      " (12, 0.3062161782582071),\n",
      " (17, 0.4073558131243617),\n",
      " (18, 0.4073558131243617),\n",
      " (19, 0.4073558131243617),\n",
      " (20, 0.4073558131243617)]\n"
     ]
    }
   ],
   "source": [
    "doc_no = 4\n",
    "sk_tfidf_vectors = sk_tfidf_model[corpus]\n",
    "pprint(sk_tfidf_vectors.corpus[doc_no])\n",
    "pprint(sk_tfidf_vectors[doc_no])"
   ]
  },
  {
   "cell_type": "code",
   "execution_count": null,
   "id": "56f80c3f-61f4-42fd-9528-b523f352cd8b",
   "metadata": {},
   "outputs": [
    {
     "data": {
      "text/plain": [
       "array([0.        , 0.36721694, 0.12146484, 0.        , 1.        ,\n",
       "       0.        , 0.        , 0.        , 0.        ], dtype=float32)"
      ]
     },
     "execution_count": 55,
     "metadata": {},
     "output_type": "execute_result"
    }
   ],
   "source": [
    "sk_tfidf_index = MatrixSimilarity(sk_tfidf_vectors)\n",
    "sk_tfidf_index[sk_tfidf_vectors[doc_no]]"
   ]
  },
  {
   "cell_type": "markdown",
   "id": "4fc9df7a-1993-4180-b84f-86688a82ba1d",
   "metadata": {},
   "source": [
    "<div class=\"alert alert-info\">gensim의 idf 값은 scikit-learn에 비해 진폭이 크다.</div>\n",
    "\n",
    "- 전체 문서의 수가 1,000개일 때 df가 106까지 gensim의 idf가 큰 반면, df가 107부터 scikit-learn의 idf가 크다.\n",
    "- df가 1인 경우 gensim의 idf는 10.0 정도인데 반해 scikir-learn은 7.2이다. 이 차이는 전체 문서의 수가 증가함에 따라 함께 증가한다. \n",
    "- df가 전체 문서의 수와 같을 때, gensim의 idf는 0인데 반해 scikit-learn은 1이다."
   ]
  },
  {
   "cell_type": "code",
   "execution_count": null,
   "id": "b34b7038-ddb2-4ba0-9528-c6401d466c2c",
   "metadata": {
    "tags": []
   },
   "outputs": [
    {
     "data": {
      "image/png": "[encoded data removed]",
      "text/plain": [
       "<Figure size 640x480 with 1 Axes>"
      ]
     },
     "metadata": {},
     "output_type": "display_data"
    }
   ],
   "source": [
    "from gensim.models.tfidfmodel import df2idf\n",
    "import matplotlib.pyplot as plt\n",
    "%matplotlib inline\n",
    "\n",
    "n = 1000\n",
    "dfs = range(1, n+1)\n",
    "_, ax = plt.subplots()\n",
    "ax.plot([df2idf(df, n) for df in dfs], label=\"gensim\")\n",
    "ax.plot([sk_df2idf(df, n) for df in dfs], label=\"scikit-learn\")\n",
    "ax.set(xlabel=\"df\", ylabel=\"idf\")\n",
    "ax.legend();"
   ]
  },
  {
   "cell_type": "code",
   "execution_count": null,
   "id": "7b008a7d",
   "metadata": {},
   "outputs": [],
   "source": []
  }
 ],
 "metadata": {
  "kernelspec": {
   "display_name": "Python 3.10.6 ('devel')",
   "language": "python",
   "name": "python3"
  },
  "language_info": {
   "codemirror_mode": {
    "name": "ipython",
    "version": 3
   },
   "file_extension": ".py",
   "mimetype": "text/x-python",
   "name": "python",
   "nbconvert_exporter": "python",
   "pygments_lexer": "ipython3",
   "version": "3.10.6"
  },
  "vscode": {
   "interpreter": {
    "hash": "caa9483b3bbfcedfc02e62495f82dce4f88ac1337240dab011a1a04ad3ac9036"
   }
  }
 },
 "nbformat": 4,
 "nbformat_minor": 5
}
